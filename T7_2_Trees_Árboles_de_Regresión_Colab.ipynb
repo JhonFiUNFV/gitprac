{
  "cells": [
    {
      "cell_type": "markdown",
      "metadata": {
        "id": "view-in-github",
        "colab_type": "text"
      },
      "source": [
        "<a href=\"https://colab.research.google.com/github/JhonFiUNFV/gitprac/blob/master/T7_2_Trees_%C3%81rboles_de_Regresi%C3%B3n_Colab.ipynb\" target=\"_parent\"><img src=\"https://colab.research.google.com/assets/colab-badge.svg\" alt=\"Open In Colab\"/></a>"
      ]
    },
    {
      "cell_type": "markdown",
      "metadata": {
        "id": "wSHW4Sr8nwoF"
      },
      "source": [
        "<a href=\"https://colab.research.google.com/github/joanby/python-ml-course/blob/master/notebooks/T7%20-%202%20-%20Trees%20-%20Árboles%20de%20Regresión-Colab.ipynb\" target=\"_parent\"><img src=\"https://colab.research.google.com/assets/colab-badge.svg\" alt=\"Open In Colab\"/></a>"
      ]
    },
    {
      "cell_type": "markdown",
      "metadata": {
        "id": "I4exY7BSnwoH"
      },
      "source": [
        "# Clonamos el repositorio para obtener los dataSet"
      ]
    },
    {
      "cell_type": "code",
      "execution_count": null,
      "metadata": {
        "id": "ks7c-gWnnwoI"
      },
      "outputs": [],
      "source": [
        "!git clone https://github.com/joanby/python-ml-course.git"
      ]
    },
    {
      "cell_type": "markdown",
      "metadata": {
        "id": "J6-G5hmjnwoJ"
      },
      "source": [
        "# Damos acceso a nuestro Drive"
      ]
    },
    {
      "cell_type": "code",
      "execution_count": null,
      "metadata": {
        "id": "2uk8XeTZnwoK"
      },
      "outputs": [],
      "source": [
        "from google.colab import drive\n",
        "drive.mount('/content/drive')\n",
        "# Test it\n",
        "!ls '/content/drive/My Drive' "
      ]
    },
    {
      "cell_type": "code",
      "execution_count": null,
      "metadata": {
        "id": "rnIX_LxlnwoK"
      },
      "outputs": [],
      "source": [
        "from google.colab import files # Para manejar los archivos y, por ejemplo, exportar a su navegador\n",
        "import glob # Para manejar los archivos y, por ejemplo, exportar a su navegador\n",
        "from google.colab import drive # Montar tu Google drive"
      ]
    },
    {
      "cell_type": "markdown",
      "metadata": {
        "id": "Knxez_bvnwoL"
      },
      "source": [
        "# Árboles de Regresión"
      ]
    },
    {
      "cell_type": "code",
      "execution_count": null,
      "metadata": {
        "id": "znqs1tgunwoL"
      },
      "outputs": [],
      "source": [
        "import pandas as pd"
      ]
    },
    {
      "cell_type": "code",
      "execution_count": null,
      "metadata": {
        "id": "CnIOpYYCnwoL"
      },
      "outputs": [],
      "source": [
        "data = pd.read_csv(\"/content/python-ml-course/datasets/boston/Boston.csv\")\n",
        "data.head()"
      ]
    },
    {
      "cell_type": "code",
      "execution_count": null,
      "metadata": {
        "id": "e0dbOa6MnwoM"
      },
      "outputs": [],
      "source": [
        "data.shape"
      ]
    },
    {
      "cell_type": "code",
      "execution_count": null,
      "metadata": {
        "id": "KRYqBeGpnwoO"
      },
      "outputs": [],
      "source": [
        "colnames = data.columns.values.tolist()\n",
        "predictors = colnames[:13]\n",
        "target = colnames[13]\n",
        "X = data[predictors]\n",
        "Y = data[target]"
      ]
    },
    {
      "cell_type": "code",
      "execution_count": null,
      "metadata": {
        "id": "mIBUECzWnwoO"
      },
      "outputs": [],
      "source": [
        "from sklearn.tree import DecisionTreeRegressor"
      ]
    },
    {
      "cell_type": "code",
      "execution_count": null,
      "metadata": {
        "id": "Jz7ImSg0nwoP"
      },
      "outputs": [],
      "source": [
        "regtree = DecisionTreeRegressor(min_samples_split=30, min_samples_leaf=10, max_depth=5, random_state=0)"
      ]
    },
    {
      "cell_type": "code",
      "execution_count": null,
      "metadata": {
        "id": "n4YwgWf7nwoP"
      },
      "outputs": [],
      "source": [
        "regtree.fit(X,Y)"
      ]
    },
    {
      "cell_type": "code",
      "execution_count": null,
      "metadata": {
        "id": "aU8fcKz0nwoQ"
      },
      "outputs": [],
      "source": [
        "preds = regtree.predict(data[predictors])"
      ]
    },
    {
      "cell_type": "code",
      "execution_count": null,
      "metadata": {
        "id": "iM2uGWounwoQ"
      },
      "outputs": [],
      "source": [
        "data[\"preds\"] = preds"
      ]
    },
    {
      "cell_type": "code",
      "execution_count": null,
      "metadata": {
        "id": "nnmXE3U5nwoQ"
      },
      "outputs": [],
      "source": [
        "data[[\"preds\", \"medv\"]]"
      ]
    },
    {
      "cell_type": "code",
      "execution_count": null,
      "metadata": {
        "id": "l93BKexmnwoR"
      },
      "outputs": [],
      "source": [
        "from sklearn.tree import export_graphviz\n",
        "with open(\"/content/python-ml-course/notebooks/resources/boston_rtree.dot\", \"w\") as dotfile:\n",
        "    export_graphviz(regtree, out_file=dotfile, feature_names=predictors)\n",
        "    dotfile.close()\n",
        "    \n",
        "import os\n",
        "from graphviz import Source\n",
        "file = open(\"/content/python-ml-course/notebooks/resources/boston_rtree.dot\", \"r\")\n",
        "text = file.read()\n",
        "Source(text)\n"
      ]
    },
    {
      "cell_type": "code",
      "execution_count": null,
      "metadata": {
        "id": "REr22dssnwoR"
      },
      "outputs": [],
      "source": [
        "from sklearn.model_selection import KFold\n",
        "from sklearn.model_selection import cross_val_score\n",
        "from sklearn.metrics import mean_squared_error, make_scorer\n",
        "import numpy as np"
      ]
    },
    {
      "cell_type": "code",
      "execution_count": null,
      "metadata": {
        "id": "zFuWVJGZnwoS"
      },
      "outputs": [],
      "source": [
        "cv = KFold(n_splits = 10, shuffle=True, random_state=1)\n",
        "cv.get_n_splits(X)\n",
        "scores = cross_val_score(regtree, X, Y, scoring=make_scorer(mean_squared_error), cv = cv, n_jobs=1)\n",
        "print(scores)\n",
        "score = np.mean(scores)\n",
        "print(score)"
      ]
    },
    {
      "cell_type": "code",
      "execution_count": null,
      "metadata": {
        "id": "jF95Rwu9nwoS"
      },
      "outputs": [],
      "source": [
        "list(zip(predictors,regtree.feature_importances_))"
      ]
    },
    {
      "cell_type": "markdown",
      "metadata": {
        "id": "oPP0bY7AnwoS"
      },
      "source": [
        "## Random Forests"
      ]
    },
    {
      "cell_type": "code",
      "execution_count": null,
      "metadata": {
        "id": "YyW5Lth0nwoT"
      },
      "outputs": [],
      "source": [
        "from sklearn.ensemble import RandomForestRegressor"
      ]
    },
    {
      "cell_type": "code",
      "execution_count": null,
      "metadata": {
        "id": "l43uce30nwoT"
      },
      "outputs": [],
      "source": [
        "forest = RandomForestRegressor(n_jobs=-1, oob_score=True, n_estimators=10000)\n",
        "forest.fit(X,Y)"
      ]
    },
    {
      "cell_type": "code",
      "execution_count": null,
      "metadata": {
        "id": "W89vIb0qnwoT"
      },
      "outputs": [],
      "source": [
        "data[\"rforest_pred\"]= forest.oob_prediction_\n",
        "data[[\"rforest_pred\", \"medv\"]]"
      ]
    },
    {
      "cell_type": "code",
      "execution_count": null,
      "metadata": {
        "id": "et52YRCynwoU"
      },
      "outputs": [],
      "source": [
        "data[\"rforest_error2\"] = (data[\"rforest_pred\"]-data[\"medv\"])**2\n",
        "sum(data[\"rforest_error2\"])/len(data)"
      ]
    },
    {
      "cell_type": "code",
      "execution_count": null,
      "metadata": {
        "id": "uBvUFqP5nwoU"
      },
      "outputs": [],
      "source": [
        "forest.oob_score_"
      ]
    }
  ],
  "metadata": {
    "kernelspec": {
      "display_name": "Python 3",
      "language": "python",
      "name": "python3"
    },
    "language_info": {
      "codemirror_mode": {
        "name": "ipython",
        "version": 3
      },
      "file_extension": ".py",
      "mimetype": "text/x-python",
      "name": "python",
      "nbconvert_exporter": "python",
      "pygments_lexer": "ipython3",
      "version": "3.8.8"
    },
    "colab": {
      "name": "T7 - 2 - Trees - Árboles de Regresión-Colab.ipynb",
      "provenance": [],
      "include_colab_link": true
    }
  },
  "nbformat": 4,
  "nbformat_minor": 0
}